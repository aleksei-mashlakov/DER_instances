{
 "cells": [
  {
   "cell_type": "code",
   "execution_count": 1,
   "metadata": {
    "collapsed": true
   },
   "outputs": [],
   "source": [
    "from __future__ import print_function"
   ]
  },
  {
   "cell_type": "code",
   "execution_count": 2,
   "metadata": {},
   "outputs": [],
   "source": [
    "import sys\n",
    "sys.path.insert(0, '../src/')\n",
    "import generator\n",
    "\n",
    "import numpy as np\n",
    "import cplex"
   ]
  },
  {
   "cell_type": "markdown",
   "metadata": {},
   "source": [
    "# Instance generator for Demand-Response problems\n",
    "\n",
    "Generates instances of residential Demand Response problems, formulated as Mixed-Integer Linear Programs (MILP).\n",
    "\n",
    "These models are described in Anjos, Lodi, Tanneau, _A Decentralized Framework for the Optimal Coordination of Distributed Energy Resources_\n",
    "\n",
    "\n",
    "The considered problems are MILPs of the form:\n",
    "\n",
    "$$\n",
    "\\min_{y, x} \\ \\ \\ \\ q^{T}y + \\sum_{r} c_{r}^{T} x_{r}\\\\\n",
    "s.t.\\ \\ \\ My + \\sum_{r} A_{r} x_{r} = b\\\\\n",
    "x_{r} \\in \\mathcal{X}_{r}\n",
    "$$\n",
    "where $x_{r} \\in \\mathcal{X}_{r}$ encodes linear constraints and integrality requirements on $x_{r}$."
   ]
  },
  {
   "cell_type": "markdown",
   "metadata": {},
   "source": [
    "## Hyper-parameters"
   ]
  },
  {
   "cell_type": "code",
   "execution_count": 3,
   "metadata": {
    "collapsed": true
   },
   "outputs": [],
   "source": [
    "n_hh = 1024  # number of households\n",
    "\n",
    "t_beg = 408  # beginning of the time horizon\n",
    "t_horizon = 24  # number of time-steps\n",
    "\n",
    "seed = 15984293  # random seed"
   ]
  },
  {
   "cell_type": "code",
   "execution_count": 4,
   "metadata": {},
   "outputs": [],
   "source": [
    "p_renew = 0.10  # proportion of households that contain PV+EV+Battery\n",
    "\n",
    "# ownership rates of the considered devices\n",
    "own_rates = {\n",
    "    'pv': p_renew,  # rooftop solar PV\n",
    "    'dishwasher': 0.65,\n",
    "    'clothes_washer': 0.9,\n",
    "    'clothes_dryer': 0.75,\n",
    "    'ev': p_renew,  # electric vehicle\n",
    "    'heating': 0.6,  # space heating\n",
    "    'battery': p_renew  # home battery\n",
    "}"
   ]
  },
  {
   "cell_type": "markdown",
   "metadata": {},
   "source": [
    "## Generate instance"
   ]
  },
  {
   "cell_type": "code",
   "execution_count": 5,
   "metadata": {
    "collapsed": true
   },
   "outputs": [],
   "source": [
    "# generate instance\n",
    "m = generator.generate_instance(n_hh, t_beg, t_horizon, own_rates, seed=seed)\n",
    "\n",
    "# m.write('dr_model.mps')  # un-comment this line to export the model in MPS format"
   ]
  },
  {
   "cell_type": "code",
   "execution_count": 6,
   "metadata": {},
   "outputs": [
    {
     "name": "stdout",
     "output_type": "stream",
     "text": [
      "Variables (all) : 202023\n",
      "   > Binary     : 77247\n",
      "   > Continuous : 124776\n",
      "Constraints     : 152338\n"
     ]
    }
   ],
   "source": [
    "# print(stats\n",
    "print('Variables (all) :', m.variables.get_num())\n",
    "print('   > Binary     :', m.variables.get_num_binary())\n",
    "print('   > Continuous :', m.variables.get_num()-m.variables.get_num_binary())\n",
    "print('Constraints     :', m.linear_constraints.get_num())"
   ]
  },
  {
   "cell_type": "markdown",
   "metadata": {},
   "source": [
    "## Solve (using CPLEX)"
   ]
  },
  {
   "cell_type": "code",
   "execution_count": null,
   "metadata": {
    "scrolled": true
   },
   "outputs": [],
   "source": [
    "# Restrict use of resources\n",
    "m.parameters.timelimit.set(120)\n",
    "m.parameters.threads.set(1)\n",
    "\n",
    "# Solve model\n",
    "m.solve()"
   ]
  }
 ],
 "metadata": {
  "kernelspec": {
   "display_name": "Python 2",
   "language": "python",
   "name": "python2"
  },
  "language_info": {
   "codemirror_mode": {
    "name": "ipython",
    "version": 2
   },
   "file_extension": ".py",
   "mimetype": "text/x-python",
   "name": "python",
   "nbconvert_exporter": "python",
   "pygments_lexer": "ipython2",
   "version": "2.7.12"
  }
 },
 "nbformat": 4,
 "nbformat_minor": 2
}
