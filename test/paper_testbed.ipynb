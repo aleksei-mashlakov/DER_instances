{
 "cells": [
  {
   "cell_type": "code",
   "execution_count": null,
   "metadata": {
    "collapsed": true
   },
   "outputs": [],
   "source": [
    "from __future__ import print_function"
   ]
  },
  {
   "cell_type": "code",
   "execution_count": null,
   "metadata": {
    "collapsed": true
   },
   "outputs": [],
   "source": [
    "import sys\n",
    "sys.path.insert(0, '../src/')\n",
    "import generator\n",
    "\n",
    "import numpy as np\n",
    "import cplex"
   ]
  },
  {
   "cell_type": "markdown",
   "metadata": {},
   "source": [
    "# Instance generator for Demand-Response problems\n",
    "\n",
    "Generates instances of residential Demand Response problems, formulated as Mixed-Integer Linear Programs (MILP).\n",
    "\n",
    "These models are described in Anjos, Lodi, Tanneau, _A Decentralized Framework for the Optimal Coordination of Distributed Energy Resources_\n",
    "\n",
    "\n",
    "The considered problems are MILPs of the form:\n",
    "\n",
    "$$\n",
    "\\begin{array}{rrl}\n",
    "\\displaystyle \\min_{y, x} &  q^{T}y + \\sum_{r} c_{r}^{T} x_{r}\\\\\n",
    "s.t.  &  My + \\sum_{r} A_{r} x_{r} &= b\\\\\n",
    "& x_{r} &\\in \\mathcal{X}_{r}\n",
    "\\end{array}\n",
    "$$\n",
    "where $x_{r} \\in \\mathcal{X}_{r}$ encodes linear constraints and integrality requirements on $x_{r}$."
   ]
  },
  {
   "cell_type": "markdown",
   "metadata": {},
   "source": [
    "# Instances used in [Anjos et al]"
   ]
  },
  {
   "cell_type": "markdown",
   "metadata": {},
   "source": [
    "This will generate the testbed that was used in [Anjos, Lodi, Tanneau].\n",
    "\n",
    "For an example, see the `example.ipynb` notebook."
   ]
  },
  {
   "cell_type": "markdown",
   "metadata": {},
   "source": [
    "## Hyper-parameters\n",
    "\n",
    "First, we generate a list of hyper-parameters for the instance generator. Instances can then be generated and solved individually."
   ]
  },
  {
   "cell_type": "code",
   "execution_count": null,
   "metadata": {
    "collapsed": true
   },
   "outputs": [],
   "source": [
    "# Hyper-parameters values\n",
    "N = [1024, 1536, 2048, 3072, 4096, 6144, 8192]  # number of households\n",
    "T = [24, 48, 72, 96]  # time-horizon\n",
    "P = [0.00, 0.33, 0.66, 1.00]  # proportion of renewables\n",
    "n_runs = 10  # generate several instances for each value of (n, t, p)"
   ]
  },
  {
   "cell_type": "code",
   "execution_count": null,
   "metadata": {
    "collapsed": true
   },
   "outputs": [],
   "source": [
    "# generate list of hyper parameters\n",
    "h = []\n",
    "\n",
    "np.random.seed(0)\n",
    "for n in N:\n",
    "    for t in T:\n",
    "        for p in P:\n",
    "            for r in range(n_runs):\n",
    "                s = np.random.randint(low=0, high=2**24)\n",
    "                h.append((n, t, p, r, s))"
   ]
  },
  {
   "cell_type": "markdown",
   "metadata": {},
   "source": [
    "## Generate instances"
   ]
  },
  {
   "cell_type": "code",
   "execution_count": null,
   "metadata": {
    "collapsed": true
   },
   "outputs": [],
   "source": [
    "for (n, t, p, r, s) in h:\n",
    "    own_rates = {\n",
    "        'pv': p,  # rooftop solar PV\n",
    "        'dishwasher': 0.65,\n",
    "        'clothes_washer': 0.9,\n",
    "        'clothes_dryer': 0.75,\n",
    "        'ev': p,  # electric vehicle\n",
    "        'heating': 0.6,  # space heating\n",
    "        'battery': p  # home battery\n",
    "    }\n",
    "    # generate instance\n",
    "    m = generator.generate_instance(n, 408, t, own_rates, seed=s)\n",
    "    \n",
    "    # instance can now be solved, exported in an MPS / LP file..."
   ]
  }
 ],
 "metadata": {
  "kernelspec": {
   "display_name": "Python 2",
   "language": "python",
   "name": "python2"
  },
  "language_info": {
   "codemirror_mode": {
    "name": "ipython",
    "version": 2
   },
   "file_extension": ".py",
   "mimetype": "text/x-python",
   "name": "python",
   "nbconvert_exporter": "python",
   "pygments_lexer": "ipython2",
   "version": "2.7.12"
  }
 },
 "nbformat": 4,
 "nbformat_minor": 2
}
