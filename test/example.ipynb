{
 "cells": [
  {
   "cell_type": "code",
   "execution_count": 1,
   "metadata": {
    "collapsed": true
   },
   "outputs": [],
   "source": [
    "from __future__ import print_function"
   ]
  },
  {
   "cell_type": "code",
   "execution_count": 2,
   "metadata": {
    "collapsed": true
   },
   "outputs": [],
   "source": [
    "import sys\n",
    "sys.path.insert(0, '../src/')\n",
    "import generator\n",
    "\n",
    "import numpy as np\n",
    "import cplex"
   ]
  },
  {
   "cell_type": "markdown",
   "metadata": {},
   "source": [
    "# Instance generator for Demand-Response problems\n",
    "\n",
    "Generates instances of residential Demand Response problems, formulated as Mixed-Integer Linear Programs (MILP).\n",
    "\n",
    "These models are described in Anjos, Lodi, Tanneau, _A Decentralized Framework for the Optimal Coordination of Distributed Energy Resources_\n",
    "\n",
    "\n",
    "The considered problems are MILPs of the form:\n",
    "\n",
    "$$\n",
    "\\begin{array}{rrl}\n",
    "\\displaystyle \\min_{y, x} &  q^{T}y + \\sum_{r} c_{r}^{T} x_{r}\\\\\n",
    "s.t.  &  My + \\sum_{r} A_{r} x_{r} &= b\\\\\n",
    "& x_{r} &\\in \\mathcal{X}_{r}\n",
    "\\end{array}\n",
    "$$\n",
    "where $x_{r} \\in \\mathcal{X}_{r}$ encodes linear constraints and integrality requirements on $x_{r}$."
   ]
  },
  {
   "cell_type": "markdown",
   "metadata": {},
   "source": [
    "## Hyper-parameters"
   ]
  },
  {
   "cell_type": "code",
   "execution_count": 3,
   "metadata": {
    "collapsed": true
   },
   "outputs": [],
   "source": [
    "n_hh = 1024  # number of households\n",
    "\n",
    "t_beg = 408  # beginning of the time horizon\n",
    "t_horizon = 24  # number of time-steps\n",
    "\n",
    "seed = 15984293  # random seed for the example"
   ]
  },
  {
   "cell_type": "code",
   "execution_count": 4,
   "metadata": {
    "collapsed": true
   },
   "outputs": [],
   "source": [
    "p_renew = 0.10  # proportion of households that contain PV+EV+Battery\n",
    "\n",
    "# ownership rates of the considered devices\n",
    "own_rates = {\n",
    "    'pv': p_renew,  # rooftop solar PV\n",
    "    'dishwasher': 0.65,\n",
    "    'clothes_washer': 0.9,\n",
    "    'clothes_dryer': 0.75,\n",
    "    'ev': p_renew,  # electric vehicle\n",
    "    'heating': 0.6,  # space heating\n",
    "    'battery': p_renew  # home battery\n",
    "}"
   ]
  },
  {
   "cell_type": "markdown",
   "metadata": {},
   "source": [
    "## Generate instance"
   ]
  },
  {
   "cell_type": "code",
   "execution_count": 5,
   "metadata": {
    "collapsed": true
   },
   "outputs": [],
   "source": [
    "# generate instance\n",
    "m = generator.generate_instance(n_hh, t_beg, t_horizon, own_rates, seed=seed)\n",
    "\n",
    "# m.write('dr_model.mps')  # un-comment this line to export the model in MPS format"
   ]
  },
  {
   "cell_type": "code",
   "execution_count": 6,
   "metadata": {},
   "outputs": [
    {
     "name": "stdout",
     "output_type": "stream",
     "text": [
      "Variables (all) : 202023\n",
      "   > Binary     : 77247\n",
      "   > Continuous : 124776\n",
      "Constraints     : 152338\n"
     ]
    }
   ],
   "source": [
    "# print(stats\n",
    "print('Variables (all) :', m.variables.get_num())\n",
    "print('   > Binary     :', m.variables.get_num_binary())\n",
    "print('   > Continuous :', m.variables.get_num()-m.variables.get_num_binary())\n",
    "print('Constraints     :', m.linear_constraints.get_num())"
   ]
  },
  {
   "cell_type": "markdown",
   "metadata": {},
   "source": [
    "## Solve (using CPLEX)"
   ]
  },
  {
   "cell_type": "code",
   "execution_count": 7,
   "metadata": {},
   "outputs": [
    {
     "name": "stdout",
     "output_type": "stream",
     "text": [
      "CPXPARAM_TimeLimit                               120\n",
      "CPXPARAM_Read_DataCheck                          1\n",
      "CPXPARAM_Threads                                 1\n",
      "CPXPARAM_Read_APIEncoding                        \"UTF-8\"\n",
      "CPXPARAM_MIP_Strategy_CallbackReducedLP          0\n",
      "Tried aggregator 4 times.\n",
      "MIP Presolve eliminated 42978 rows and 24617 columns.\n",
      "MIP Presolve modified 211 coefficients.\n",
      "Aggregator did 68654 substitutions.\n",
      "Reduced MIP has 40706 rows, 108752 columns, and 291203 nonzeros.\n",
      "Reduced MIP has 56763 binaries, 0 generals, 0 SOSs, and 0 indicators.\n",
      "Presolve time = 0.57 sec. (656.07 ticks)\n",
      "Found incumbent of value 1353.342906 after 0.88 sec. (953.77 ticks)\n",
      "Probing time = 0.02 sec. (16.53 ticks)\n",
      "Tried aggregator 1 time.\n",
      "Reduced MIP has 40706 rows, 108752 columns, and 291203 nonzeros.\n",
      "Reduced MIP has 56763 binaries, 0 generals, 0 SOSs, and 0 indicators.\n",
      "Presolve time = 0.21 sec. (194.74 ticks)\n",
      "Probing time = 0.02 sec. (16.53 ticks)\n",
      "Clique table members: 2414.\n",
      "MIP emphasis: balance optimality and feasibility.\n",
      "MIP search method: dynamic search.\n",
      "Parallel mode: none, using 1 thread.\n",
      "Root relaxation solution time = 0.83 sec. (1545.90 ticks)\n",
      "\n",
      "        Nodes                                         Cuts/\n",
      "   Node  Left     Objective  IInf  Best Integer    Best Bound    ItCnt     Gap\n",
      "\n",
      "*     0+    0                         1353.3429      323.4217            76.10%\n",
      "      0     0     1144.3075    32     1353.3429     1144.3075    22159   15.45%\n",
      "*     0+    0                         1144.3251     1144.3075             0.00%\n",
      "\n",
      "Root node processing (before b&c):\n",
      "  Real time             =    2.32 sec. (3091.86 ticks)\n",
      "Sequential b&c:\n",
      "  Real time             =    0.00 sec. (0.00 ticks)\n",
      "                          ------------\n",
      "Total (root+branch&cut) =    2.32 sec. (3091.86 ticks)\n"
     ]
    }
   ],
   "source": [
    "# Restrict use of resources\n",
    "m.parameters.timelimit.set(120)\n",
    "m.parameters.threads.set(1)\n",
    "\n",
    "# Solve model\n",
    "m.solve()"
   ]
  }
 ],
 "metadata": {
  "kernelspec": {
   "display_name": "Python 2",
   "language": "python",
   "name": "python2"
  },
  "language_info": {
   "codemirror_mode": {
    "name": "ipython",
    "version": 2
   },
   "file_extension": ".py",
   "mimetype": "text/x-python",
   "name": "python",
   "nbconvert_exporter": "python",
   "pygments_lexer": "ipython2",
   "version": "2.7.12"
  }
 },
 "nbformat": 4,
 "nbformat_minor": 2
}
